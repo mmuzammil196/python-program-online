{
 "cells": [
  {
   "cell_type": "code",
   "execution_count": 1,
   "metadata": {},
   "outputs": [
    {
     "name": "stdout",
     "output_type": "stream",
     "text": [
      "Twinkle, twinkle, little star,\n",
      "\t How I wonder what you are! \n",
      "\t\t Up above the world so high, \n",
      "\t\t Like a diamond in the sky. \n",
      "Twinkle, twinkle, little star, \n",
      "\t How I wonder what you are\n"
     ]
    }
   ],
   "source": [
    "# Program 1 Muhammad Muzzamil  \n",
    "print(\"Twinkle, twinkle, little star,\\n\\t How I wonder what you are! \\n\\t\\t Up above the world so high, \\n\\t\\t Like a diamond in the sky. \\nTwinkle, twinkle, little star, \\n\\t How I wonder what you are\")"
   ]
  },
  {
   "cell_type": "code",
   "execution_count": 2,
   "metadata": {},
   "outputs": [
    {
     "name": "stdout",
     "output_type": "stream",
     "text": [
      "The Current version of Python is  3.8.5 (default, Sep  3 2020, 21:29:08) [MSC v.1916 64 bit (AMD64)]\n"
     ]
    }
   ],
   "source": [
    "# program 2\n",
    "# import the sys module\n",
    "import sys\n",
    "# prints the current python version in jupyter notebook\n",
    "print(\"The Current version of Python is \", sys.version)"
   ]
  },
  {
   "cell_type": "code",
   "execution_count": 3,
   "metadata": {},
   "outputs": [
    {
     "name": "stdout",
     "output_type": "stream",
     "text": [
      "Current Date and time is = 2021-12-29 03:09:13.680220\n"
     ]
    }
   ],
   "source": [
    "# program 3\n",
    "\n",
    "# import the datetime package from datetime module\n",
    "from datetime import datetime\n",
    "\n",
    "# datetime object containing current date and time\n",
    "current_date_time = datetime.now()\n",
    " \n",
    "print(\"Current Date and time is =\", current_date_time)\n",
    "\n"
   ]
  },
  {
   "cell_type": "code",
   "execution_count": 4,
   "metadata": {},
   "outputs": [
    {
     "name": "stdout",
     "output_type": "stream",
     "text": [
      "Input the Radius of the Circle is: 76\n",
      "The Area of the circle with Radius  76.0 is: 18145.839167134644\n"
     ]
    }
   ],
   "source": [
    "# program 4\n",
    "\n",
    "# import the pi package from math module\n",
    "from math import pi\n",
    "radius = float(input (\"Input the Radius of the Circle is: \"))\n",
    "print (\"The Area of the circle with Radius  \" + str(radius) + \" is: \" + str(pi * radius**2))"
   ]
  },
  {
   "cell_type": "code",
   "execution_count": 5,
   "metadata": {},
   "outputs": [
    {
     "name": "stdout",
     "output_type": "stream",
     "text": [
      "Enter the First Name : Muhammad\n",
      "Enter the Last Name : Muzzamil\n",
      "Last name and First name : Muzzamil Muhammad\n"
     ]
    }
   ],
   "source": [
    "# program 5\n",
    "\n",
    "first_name = input(\"Enter the First Name : \")\n",
    "last_name  = input(\"Enter the Last Name : \")\n",
    "\n",
    "print(\"Last name and First name : \" +last_name +\" \" +first_name)"
   ]
  },
  {
   "cell_type": "code",
   "execution_count": 6,
   "metadata": {},
   "outputs": [
    {
     "name": "stdout",
     "output_type": "stream",
     "text": [
      "Enter First integer  : 7\n",
      "Enter Second integer : 6\n",
      "Addition of Two Inputs Number are :-  13\n"
     ]
    }
   ],
   "source": [
    "# program 6\n",
    "\n",
    "m = input(\"Enter First integer  : \")\n",
    "u = input(\"Enter Second integer : \")\n",
    "sum = int(m) + int(u)\n",
    "print(\"Addition of Two Inputs Number are :- \",sum)"
   ]
  }
 ],
 "metadata": {
  "kernelspec": {
   "display_name": "Python 3",
   "language": "python",
   "name": "python3"
  },
  "language_info": {
   "codemirror_mode": {
    "name": "ipython",
    "version": 3
   },
   "file_extension": ".py",
   "mimetype": "text/x-python",
   "name": "python",
   "nbconvert_exporter": "python",
   "pygments_lexer": "ipython3",
   "version": "3.8.5"
  }
 },
 "nbformat": 4,
 "nbformat_minor": 4
}
